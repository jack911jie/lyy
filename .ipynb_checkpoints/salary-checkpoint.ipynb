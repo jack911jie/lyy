{
 "cells": [
  {
   "cell_type": "code",
   "execution_count": 24,
   "metadata": {},
   "outputs": [
    {
     "name": "stdout",
     "output_type": "stream",
     "text": [
      "\n",
      "按指数方式计算件数：\n",
      "['5080.71', '3234.56', '1746.14', '100.00']\n",
      "['4434.56', '3234.56', '1100.00', '100.00']\n",
      "\n",
      "按对数方式计算件数：\n",
      "['4944.00', '3234.56', '1609.44', '100.00']\n",
      "['4027.71', '3234.56', '693.15', '100.00']\n"
     ]
    }
   ],
   "source": [
    "import numpy as np\n",
    "import matplotlib.pyplot as plt\n",
    "\n",
    "class salary:\n",
    "    def __init__(self,a=400,mm=250,b=1000,nn=1,cc=100,tt=820,b2=1100,nn2=1):\n",
    "        self.a=a\n",
    "        self.mm=mm\n",
    "        self.b=b\n",
    "        self.nn=nn\n",
    "        self.cc=cc\n",
    "        self.tt=tt\n",
    "        self.b2=b2\n",
    "        self.nn2=nn2\n",
    "    \n",
    "    def fm_0(self,m,n,d,t):       \n",
    "        s_m=np.log(m+self.mm)*self.a\n",
    "        s_n=pow(n,1/3)*self.b2  # 件数按  指数  方法来计算\n",
    "        s_t=np.log(t)*self.tt+self.cc\n",
    "        s=s_m+s_n+s_t\n",
    "        return  [s,s_m,s_n,s_t]\n",
    "    \n",
    "    def fm_1(self,m,n,d,t):        \n",
    "        s_m=np.log(m+self.mm)*self.a\n",
    "        s_n=np.log(n+self.nn)*self.b  # 件数按  对数  方法来计算\n",
    "        s_t=np.log(t)*self.tt+self.cc\n",
    "        s=s_m+s_n+s_t\n",
    "        return  [s,s_m,s_n,s_t]\n",
    "    \n",
    "    \n",
    "if __name__=='__main__':\n",
    "    slry=salary()\n",
    "    \n",
    "    staffs=[[3000,4,1,1],[3000,1,1,1]]\n",
    "    print('\\n按指数方式计算件数：')\n",
    "    for staff in staffs:\n",
    "        s=slry.fm_0(staff[0],staff[1],staff[2],staff[3])\n",
    "        kk=[]\n",
    "        for k in s:\n",
    "            kk.append(\"{:.2f}\".format(k))\n",
    "        print(kk)\n",
    "        \n",
    "    print('\\n按对数方式计算件数：')\n",
    "    for staff in staffs:\n",
    "        s=slry.fm_1(staff[0],staff[1],staff[2],staff[3])\n",
    "        kk=[]\n",
    "        for k in s:\n",
    "            kk.append(\"{:.2f}\".format(k))\n",
    "        print(kk)\n",
    "        \n",
    "        \n",
    "\n"
   ]
  },
  {
   "cell_type": "code",
   "execution_count": 2,
   "metadata": {},
   "outputs": [
    {
     "ename": "AttributeError",
     "evalue": "'AxesSubplot' object has no attribute 'show'",
     "output_type": "error",
     "traceback": [
      "\u001b[0;31m---------------------------------------------------------------------------\u001b[0m",
      "\u001b[0;31mAttributeError\u001b[0m                            Traceback (most recent call last)",
      "\u001b[0;32m<ipython-input-2-c897eb1a017c>\u001b[0m in \u001b[0;36m<module>\u001b[0;34m\u001b[0m\n\u001b[1;32m      4\u001b[0m \u001b[0mfig\u001b[0m\u001b[0;34m,\u001b[0m\u001b[0max\u001b[0m\u001b[0;34m=\u001b[0m\u001b[0mplt\u001b[0m\u001b[0;34m.\u001b[0m\u001b[0msubplots\u001b[0m\u001b[0;34m(\u001b[0m\u001b[0;36m1\u001b[0m\u001b[0;34m,\u001b[0m\u001b[0;36m1\u001b[0m\u001b[0;34m)\u001b[0m\u001b[0;34m\u001b[0m\u001b[0;34m\u001b[0m\u001b[0m\n\u001b[1;32m      5\u001b[0m \u001b[0;34m\u001b[0m\u001b[0m\n\u001b[0;32m----> 6\u001b[0;31m \u001b[0max\u001b[0m\u001b[0;34m.\u001b[0m\u001b[0mshow\u001b[0m\u001b[0;34m(\u001b[0m\u001b[0;34m)\u001b[0m\u001b[0;34m\u001b[0m\u001b[0;34m\u001b[0m\u001b[0m\n\u001b[0m",
      "\u001b[0;31mAttributeError\u001b[0m: 'AxesSubplot' object has no attribute 'show'"
     ]
    },
    {
     "data": {
      "image/png": "[encoded data removed]",
      "text/plain": [
       "<Figure size 432x288 with 1 Axes>"
      ]
     },
     "metadata": {
      "needs_background": "light"
     },
     "output_type": "display_data"
    }
   ],
   "source": [
    "import numpy as np\n",
    "import matplotlib.pyplot as plt\n",
    "\n",
    "fig,ax=plt.subplots(1,1)\n",
    "\n",
    "X=linspace"
   ]
  }
 ],
 "metadata": {
  "kernelspec": {
   "display_name": "Python 3.7.4 64-bit ('base': conda)",
   "language": "python",
   "name": "python37464bitbasecondae2ab51a36111499f9cc9da74f829a7d0"
  },
  "language_info": {
   "codemirror_mode": {
    "name": "ipython",
    "version": 3
   },
   "file_extension": ".py",
   "mimetype": "text/x-python",
   "name": "python",
   "nbconvert_exporter": "python",
   "pygments_lexer": "ipython3",
   "version": "3.7.4"
  },
  "toc": {
   "base_numbering": 1,
   "nav_menu": {},
   "number_sections": true,
   "sideBar": true,
   "skip_h1_title": false,
   "title_cell": "Table of Contents",
   "title_sidebar": "Contents",
   "toc_cell": false,
   "toc_position": {},
   "toc_section_display": true,
   "toc_window_display": false
  }
 },
 "nbformat": 4,
 "nbformat_minor": 4
}
